{
  "nbformat": 4,
  "nbformat_minor": 0,
  "metadata": {
    "colab": {
      "name": "Frequent,Sentiment and Aspects.ipynb",
      "provenance": []
    },
    "kernelspec": {
      "name": "python3",
      "display_name": "Python 3"
    },
    "language_info": {
      "name": "python"
    }
  },
  "cells": [
    {
      "cell_type": "markdown",
      "metadata": {
        "id": "A08z1GSNkfHk"
      },
      "source": [
        "# Importing required libraries"
      ]
    },
    {
      "cell_type": "code",
      "metadata": {
        "id": "c4esRaNZRhOD"
      },
      "source": [
        "import pandas as pd # data processing, CSV file I/O (e.g. pd.read_csv)\n",
        "import numpy as np # linear algebra\n",
        "import seaborn as sns # plotting\n",
        "import matplotlib.pyplot as plt # plotting\n",
        "%matplotlib inline\n",
        "import os # acce \n"
      ],
      "execution_count": null,
      "outputs": []
    },
    {
      "cell_type": "code",
      "metadata": {
        "colab": {
          "base_uri": "https://localhost:8080/"
        },
        "id": "-aCJancG8Wt2",
        "outputId": "3cf41be3-734e-4c3c-dd25-9bde7a91c0d1"
      },
      "source": [
        "pip install stop_words"
      ],
      "execution_count": null,
      "outputs": [
        {
          "output_type": "stream",
          "text": [
            "Collecting stop_words\n",
            "  Downloading https://files.pythonhosted.org/packages/1c/cb/d58290804b7a4c5daa42abbbe2a93c477ae53e45541b1825e86f0dfaaf63/stop-words-2018.7.23.tar.gz\n",
            "Building wheels for collected packages: stop-words\n",
            "  Building wheel for stop-words (setup.py) ... \u001b[?25l\u001b[?25hdone\n",
            "  Created wheel for stop-words: filename=stop_words-2018.7.23-cp37-none-any.whl size=32913 sha256=91af5b3c00b93dff29391ba2e628faed1a8b16d723ec607149802351c0830c0a\n",
            "  Stored in directory: /root/.cache/pip/wheels/75/37/6a/2b295e03bd07290f0da95c3adb9a74ba95fbc333aa8b0c7c78\n",
            "Successfully built stop-words\n",
            "Installing collected packages: stop-words\n",
            "Successfully installed stop-words-2018.7.23\n"
          ],
          "name": "stdout"
        }
      ]
    },
    {
      "cell_type": "code",
      "metadata": {
        "id": "OODOtJZ6Rpny"
      },
      "source": [
        "from wordcloud import WordCloud\n",
        "import nltk\n",
        "from nltk.corpus import stopwords\n",
        "from nltk import sent_tokenize, word_tokenize\n",
        "from wordcloud import WordCloud, STOPWORDS\n",
        "from collections import Counter\n",
        "from nltk.tokenize import RegexpTokenizer\n",
        "from stop_words import get_stop_words\n",
        "import re\n",
        "import spacy"
      ],
      "execution_count": null,
      "outputs": []
    },
    {
      "cell_type": "code",
      "metadata": {
        "id": "ukHGrW2vR2ER"
      },
      "source": [
        "from vaderSentiment import vaderSentiment\n",
        "from textblob import TextBlob\n",
        "from vaderSentiment.vaderSentiment import SentimentIntensityAnalyzer"
      ],
      "execution_count": null,
      "outputs": []
    },
    {
      "cell_type": "code",
      "metadata": {
        "id": "Lltk0Pn_SBOY"
      },
      "source": [
        "from nltk.stem import WordNetLemmatizer\n",
        "# Lemmatize with POS Tag\n",
        "from nltk.corpus import wordnet"
      ],
      "execution_count": null,
      "outputs": []
    },
    {
      "cell_type": "markdown",
      "metadata": {
        "id": "_NL9b7zokkPW"
      },
      "source": [
        "# loading dataset"
      ]
    },
    {
      "cell_type": "code",
      "metadata": {
        "id": "vqDXkygqSFSc"
      },
      "source": [
        "data = pd.read_csv(\"Aspect.csv\")"
      ],
      "execution_count": null,
      "outputs": []
    },
    {
      "cell_type": "code",
      "metadata": {
        "colab": {
          "base_uri": "https://localhost:8080/"
        },
        "id": "jnIeHGMhSQWW",
        "outputId": "4b81e8d8-dee4-46e1-8078-0c004f765ab3"
      },
      "source": [
        "data.shape"
      ],
      "execution_count": null,
      "outputs": [
        {
          "output_type": "execute_result",
          "data": {
            "text/plain": [
              "(902, 1)"
            ]
          },
          "metadata": {
            "tags": []
          },
          "execution_count": 14
        }
      ]
    },
    {
      "cell_type": "code",
      "metadata": {
        "id": "8JWEVYMISSzZ"
      },
      "source": [
        "data = data.loc[:10000]"
      ],
      "execution_count": null,
      "outputs": []
    },
    {
      "cell_type": "code",
      "metadata": {
        "colab": {
          "base_uri": "https://localhost:8080/"
        },
        "id": "hlzK7EoBSWL-",
        "outputId": "42539ae8-c2bb-475e-bdd9-e19b66071d77"
      },
      "source": [
        "data.shape"
      ],
      "execution_count": null,
      "outputs": [
        {
          "output_type": "execute_result",
          "data": {
            "text/plain": [
              "(902, 1)"
            ]
          },
          "metadata": {
            "tags": []
          },
          "execution_count": 16
        }
      ]
    },
    {
      "cell_type": "code",
      "metadata": {
        "colab": {
          "base_uri": "https://localhost:8080/",
          "height": 198
        },
        "id": "83-0jJE9SYq3",
        "outputId": "659fa3ed-d2a5-418c-8666-3f07bcda25a9"
      },
      "source": [
        "data.head()"
      ],
      "execution_count": null,
      "outputs": [
        {
          "output_type": "execute_result",
          "data": {
            "text/html": [
              "<div>\n",
              "<style scoped>\n",
              "    .dataframe tbody tr th:only-of-type {\n",
              "        vertical-align: middle;\n",
              "    }\n",
              "\n",
              "    .dataframe tbody tr th {\n",
              "        vertical-align: top;\n",
              "    }\n",
              "\n",
              "    .dataframe thead th {\n",
              "        text-align: right;\n",
              "    }\n",
              "</style>\n",
              "<table border=\"1\" class=\"dataframe\">\n",
              "  <thead>\n",
              "    <tr style=\"text-align: right;\">\n",
              "      <th></th>\n",
              "      <th>Aspects</th>\n",
              "    </tr>\n",
              "  </thead>\n",
              "  <tbody>\n",
              "    <tr>\n",
              "      <th>0</th>\n",
              "      <td>['product']</td>\n",
              "    </tr>\n",
              "    <tr>\n",
              "      <th>1</th>\n",
              "      <td>['clothes']</td>\n",
              "    </tr>\n",
              "    <tr>\n",
              "      <th>2</th>\n",
              "      <td>['product', 'photo', 'trust']</td>\n",
              "    </tr>\n",
              "    <tr>\n",
              "      <th>3</th>\n",
              "      <td>['colour']</td>\n",
              "    </tr>\n",
              "    <tr>\n",
              "      <th>4</th>\n",
              "      <td>['type', 'fabrics']</td>\n",
              "    </tr>\n",
              "  </tbody>\n",
              "</table>\n",
              "</div>"
            ],
            "text/plain": [
              "                         Aspects\n",
              "0                    ['product']\n",
              "1                    ['clothes']\n",
              "2  ['product', 'photo', 'trust']\n",
              "3                     ['colour']\n",
              "4            ['type', 'fabrics']"
            ]
          },
          "metadata": {
            "tags": []
          },
          "execution_count": 17
        }
      ]
    },
    {
      "cell_type": "code",
      "metadata": {
        "colab": {
          "base_uri": "https://localhost:8080/"
        },
        "id": "rUbJmJevServ",
        "outputId": "0b50ac90-8873-4e02-dc7a-23e424e3e47f"
      },
      "source": [
        "pd.set_option('display.max_colwidth', -1)"
      ],
      "execution_count": null,
      "outputs": [
        {
          "output_type": "stream",
          "text": [
            "/usr/local/lib/python3.7/dist-packages/ipykernel_launcher.py:1: FutureWarning: Passing a negative integer is deprecated in version 1.0 and will not be supported in future version. Instead, use None to not limit the column width.\n",
            "  \"\"\"Entry point for launching an IPython kernel.\n"
          ],
          "name": "stderr"
        }
      ]
    },
    {
      "cell_type": "code",
      "metadata": {
        "colab": {
          "base_uri": "https://localhost:8080/",
          "height": 348
        },
        "id": "e9YTniuiShCP",
        "outputId": "cda98050-b5ab-4404-f4bc-feded09f96ed"
      },
      "source": [
        "data.head(10)"
      ],
      "execution_count": null,
      "outputs": [
        {
          "output_type": "execute_result",
          "data": {
            "text/html": [
              "<div>\n",
              "<style scoped>\n",
              "    .dataframe tbody tr th:only-of-type {\n",
              "        vertical-align: middle;\n",
              "    }\n",
              "\n",
              "    .dataframe tbody tr th {\n",
              "        vertical-align: top;\n",
              "    }\n",
              "\n",
              "    .dataframe thead th {\n",
              "        text-align: right;\n",
              "    }\n",
              "</style>\n",
              "<table border=\"1\" class=\"dataframe\">\n",
              "  <thead>\n",
              "    <tr style=\"text-align: right;\">\n",
              "      <th></th>\n",
              "      <th>Aspects</th>\n",
              "    </tr>\n",
              "  </thead>\n",
              "  <tbody>\n",
              "    <tr>\n",
              "      <th>0</th>\n",
              "      <td>['product']</td>\n",
              "    </tr>\n",
              "    <tr>\n",
              "      <th>1</th>\n",
              "      <td>['clothes']</td>\n",
              "    </tr>\n",
              "    <tr>\n",
              "      <th>2</th>\n",
              "      <td>['product', 'photo', 'trust']</td>\n",
              "    </tr>\n",
              "    <tr>\n",
              "      <th>3</th>\n",
              "      <td>['colour']</td>\n",
              "    </tr>\n",
              "    <tr>\n",
              "      <th>4</th>\n",
              "      <td>['type', 'fabrics']</td>\n",
              "    </tr>\n",
              "    <tr>\n",
              "      <th>5</th>\n",
              "      <td>['price', 'market']</td>\n",
              "    </tr>\n",
              "    <tr>\n",
              "      <th>6</th>\n",
              "      <td>['quality']</td>\n",
              "    </tr>\n",
              "    <tr>\n",
              "      <th>7</th>\n",
              "      <td>['son', 'size']</td>\n",
              "    </tr>\n",
              "    <tr>\n",
              "      <th>8</th>\n",
              "      <td>['fiting']</td>\n",
              "    </tr>\n",
              "    <tr>\n",
              "      <th>9</th>\n",
              "      <td>['quality', 'fabric']</td>\n",
              "    </tr>\n",
              "  </tbody>\n",
              "</table>\n",
              "</div>"
            ],
            "text/plain": [
              "                         Aspects\n",
              "0  ['product']                  \n",
              "1  ['clothes']                  \n",
              "2  ['product', 'photo', 'trust']\n",
              "3  ['colour']                   \n",
              "4  ['type', 'fabrics']          \n",
              "5  ['price', 'market']          \n",
              "6  ['quality']                  \n",
              "7  ['son', 'size']              \n",
              "8  ['fiting']                   \n",
              "9  ['quality', 'fabric']        "
            ]
          },
          "metadata": {
            "tags": []
          },
          "execution_count": 19
        }
      ]
    },
    {
      "cell_type": "code",
      "metadata": {
        "colab": {
          "base_uri": "https://localhost:8080/"
        },
        "id": "XkusnGdKSmXG",
        "outputId": "b9cba9d3-574d-4aa7-8a70-08e9bb21b9f9"
      },
      "source": [
        "nRow, nCol = data.shape\n",
        "print(f'There are {nRow} rows and {nCol} columns')"
      ],
      "execution_count": null,
      "outputs": [
        {
          "output_type": "stream",
          "text": [
            "There are 902 rows and 1 columns\n"
          ],
          "name": "stdout"
        }
      ]
    },
    {
      "cell_type": "markdown",
      "metadata": {
        "id": "5MP2_TXrkrlm"
      },
      "source": [
        "# removing urls "
      ]
    },
    {
      "cell_type": "code",
      "metadata": {
        "id": "CotYvHRgSoW_"
      },
      "source": [
        "def remove_urls(text):\n",
        "    url_pattern = re.compile(r'https?://\\S+|www\\.\\S+|@[^\\s]+')\n",
        "    return url_pattern.sub(r'', text)"
      ],
      "execution_count": null,
      "outputs": []
    },
    {
      "cell_type": "code",
      "metadata": {
        "id": "mw05sFjQStmh"
      },
      "source": [
        "data[\"Aspects\"] = data[\"Aspects\"].apply(lambda text: remove_urls(text))"
      ],
      "execution_count": null,
      "outputs": []
    },
    {
      "cell_type": "code",
      "metadata": {
        "colab": {
          "base_uri": "https://localhost:8080/",
          "height": 407
        },
        "id": "FxaZQn7wS2fB",
        "outputId": "f97b8397-a189-4e5e-aab7-03ae0b14cec5"
      },
      "source": [
        "data"
      ],
      "execution_count": null,
      "outputs": [
        {
          "output_type": "execute_result",
          "data": {
            "text/html": [
              "<div>\n",
              "<style scoped>\n",
              "    .dataframe tbody tr th:only-of-type {\n",
              "        vertical-align: middle;\n",
              "    }\n",
              "\n",
              "    .dataframe tbody tr th {\n",
              "        vertical-align: top;\n",
              "    }\n",
              "\n",
              "    .dataframe thead th {\n",
              "        text-align: right;\n",
              "    }\n",
              "</style>\n",
              "<table border=\"1\" class=\"dataframe\">\n",
              "  <thead>\n",
              "    <tr style=\"text-align: right;\">\n",
              "      <th></th>\n",
              "      <th>Aspects</th>\n",
              "    </tr>\n",
              "  </thead>\n",
              "  <tbody>\n",
              "    <tr>\n",
              "      <th>0</th>\n",
              "      <td>['product']</td>\n",
              "    </tr>\n",
              "    <tr>\n",
              "      <th>1</th>\n",
              "      <td>['clothes']</td>\n",
              "    </tr>\n",
              "    <tr>\n",
              "      <th>2</th>\n",
              "      <td>['product', 'photo', 'trust']</td>\n",
              "    </tr>\n",
              "    <tr>\n",
              "      <th>3</th>\n",
              "      <td>['colour']</td>\n",
              "    </tr>\n",
              "    <tr>\n",
              "      <th>4</th>\n",
              "      <td>['type', 'fabrics']</td>\n",
              "    </tr>\n",
              "    <tr>\n",
              "      <th>...</th>\n",
              "      <td>...</td>\n",
              "    </tr>\n",
              "    <tr>\n",
              "      <th>897</th>\n",
              "      <td>['shirts', 'pants', 'quality', 'quality', 'shirts', 'pants']</td>\n",
              "    </tr>\n",
              "    <tr>\n",
              "      <th>898</th>\n",
              "      <td>['purchase', 'product', 'product', 'quality', 'material', 'price', 'thise', 'product', 'purchase', 'future']</td>\n",
              "    </tr>\n",
              "    <tr>\n",
              "      <th>899</th>\n",
              "      <td>['order', 'order']</td>\n",
              "    </tr>\n",
              "    <tr>\n",
              "      <th>900</th>\n",
              "      <td>['knee', 'side']</td>\n",
              "    </tr>\n",
              "    <tr>\n",
              "      <th>901</th>\n",
              "      <td>['product', 'product', 'fit']</td>\n",
              "    </tr>\n",
              "  </tbody>\n",
              "</table>\n",
              "<p>902 rows × 1 columns</p>\n",
              "</div>"
            ],
            "text/plain": [
              "                                                                                                          Aspects\n",
              "0    ['product']                                                                                                 \n",
              "1    ['clothes']                                                                                                 \n",
              "2    ['product', 'photo', 'trust']                                                                               \n",
              "3    ['colour']                                                                                                  \n",
              "4    ['type', 'fabrics']                                                                                         \n",
              "..                   ...                                                                                         \n",
              "897  ['shirts', 'pants', 'quality', 'quality', 'shirts', 'pants']                                                \n",
              "898  ['purchase', 'product', 'product', 'quality', 'material', 'price', 'thise', 'product', 'purchase', 'future']\n",
              "899  ['order', 'order']                                                                                          \n",
              "900  ['knee', 'side']                                                                                            \n",
              "901  ['product', 'product', 'fit']                                                                               \n",
              "\n",
              "[902 rows x 1 columns]"
            ]
          },
          "metadata": {
            "tags": []
          },
          "execution_count": 23
        }
      ]
    },
    {
      "cell_type": "code",
      "metadata": {
        "id": "Xdb9vzXYS5UK"
      },
      "source": [
        "top_N = 1000 #top 100 words\n",
        "\n",
        "#convert list of list into text\n",
        "a = data['Aspects'].str.lower().str.cat(sep=' ')\n",
        "\n",
        "# removes punctuation,numbers and returns list of words\n",
        "b = re.sub('[^A-Za-z]+', ' ', a)"
      ],
      "execution_count": null,
      "outputs": []
    },
    {
      "cell_type": "markdown",
      "metadata": {
        "id": "x0NcaoxekwIm"
      },
      "source": [
        "# removing stop words"
      ]
    },
    {
      "cell_type": "code",
      "metadata": {
        "id": "RV4qoivdTEMx"
      },
      "source": [
        "stop_words = list(get_stop_words('en'))         \n",
        "nltk_words = list(stopwords.words('english'))   \n",
        "stop_words.extend(nltk_words)"
      ],
      "execution_count": null,
      "outputs": []
    },
    {
      "cell_type": "code",
      "metadata": {
        "id": "hNEjf1QgTLlp"
      },
      "source": [
        "word_tokens = word_tokenize(b) # Tokenization\n",
        "filtered_sentence = [w for w in word_tokens if not w in stop_words]\n",
        "filtered_sentence = []\n",
        "for w in word_tokens:\n",
        "    if w not in stop_words:\n",
        "        filtered_sentence.append(w)"
      ],
      "execution_count": null,
      "outputs": []
    },
    {
      "cell_type": "code",
      "metadata": {
        "id": "UurdiII3TTsI"
      },
      "source": [
        "# Remove characters which have length less than 2  \n",
        "without_single_chr = [word for word in filtered_sentence if len(word) > 2]\n",
        "\n",
        "# Remove numbers\n",
        "cleaned_data_title = [word for word in without_single_chr if not word.isnumeric()]"
      ],
      "execution_count": null,
      "outputs": []
    },
    {
      "cell_type": "code",
      "metadata": {
        "id": "mxyTtvQjTgS4"
      },
      "source": [
        "def get_wordnet_pos(word):\n",
        "    \"\"\"Map POS tag to first character lemmatize() accepts\"\"\"\n",
        "    tag = nltk.pos_tag([word])[0][1][0].upper()\n",
        "    tag_dict = {\"J\": wordnet.ADJ,\n",
        "                \"N\": wordnet.NOUN,\n",
        "                \"V\": wordnet.VERB,\n",
        "                \"R\": wordnet.ADV}\n",
        "    return tag_dict.get(tag, wordnet.NOUN)\n",
        "\n",
        "# 1. Init Lemmatizer\n",
        "lemmatizer = WordNetLemmatizer()"
      ],
      "execution_count": null,
      "outputs": []
    },
    {
      "cell_type": "code",
      "metadata": {
        "id": "qFRHssLxTiMR"
      },
      "source": [
        "lemmatized_output = [lemmatizer.lemmatize(w, get_wordnet_pos(w)) for w in cleaned_data_title]\n",
        "lemmatized_output = [word for word in lemmatized_output if not word.isnumeric()]"
      ],
      "execution_count": null,
      "outputs": []
    },
    {
      "cell_type": "markdown",
      "metadata": {
        "id": "dKSEeXPBk09w"
      },
      "source": [
        "# Getting top frequent words"
      ]
    },
    {
      "cell_type": "code",
      "metadata": {
        "id": "9PNhKhwWTXgx",
        "colab": {
          "base_uri": "https://localhost:8080/",
          "height": 407
        },
        "outputId": "95e630a5-0c07-4b23-8a55-23faa9a16bde"
      },
      "source": [
        "word_dist = nltk.FreqDist(lemmatized_output)\n",
        "top1000_words = pd.DataFrame(word_dist.most_common(top_N),\n",
        "                    columns=['Word', 'Frequency'])\n",
        "top1000_words"
      ],
      "execution_count": null,
      "outputs": [
        {
          "output_type": "execute_result",
          "data": {
            "text/html": [
              "<div>\n",
              "<style scoped>\n",
              "    .dataframe tbody tr th:only-of-type {\n",
              "        vertical-align: middle;\n",
              "    }\n",
              "\n",
              "    .dataframe tbody tr th {\n",
              "        vertical-align: top;\n",
              "    }\n",
              "\n",
              "    .dataframe thead th {\n",
              "        text-align: right;\n",
              "    }\n",
              "</style>\n",
              "<table border=\"1\" class=\"dataframe\">\n",
              "  <thead>\n",
              "    <tr style=\"text-align: right;\">\n",
              "      <th></th>\n",
              "      <th>Word</th>\n",
              "      <th>Frequency</th>\n",
              "    </tr>\n",
              "  </thead>\n",
              "  <tbody>\n",
              "    <tr>\n",
              "      <th>0</th>\n",
              "      <td>product</td>\n",
              "      <td>395</td>\n",
              "    </tr>\n",
              "    <tr>\n",
              "      <th>1</th>\n",
              "      <td>quality</td>\n",
              "      <td>348</td>\n",
              "    </tr>\n",
              "    <tr>\n",
              "      <th>2</th>\n",
              "      <td>size</td>\n",
              "      <td>150</td>\n",
              "    </tr>\n",
              "    <tr>\n",
              "      <th>3</th>\n",
              "      <td>colour</td>\n",
              "      <td>108</td>\n",
              "    </tr>\n",
              "    <tr>\n",
              "      <th>4</th>\n",
              "      <td>material</td>\n",
              "      <td>101</td>\n",
              "    </tr>\n",
              "    <tr>\n",
              "      <th>...</th>\n",
              "      <td>...</td>\n",
              "      <td>...</td>\n",
              "    </tr>\n",
              "    <tr>\n",
              "      <th>491</th>\n",
              "      <td>function</td>\n",
              "      <td>1</td>\n",
              "    </tr>\n",
              "    <tr>\n",
              "      <th>492</th>\n",
              "      <td>diz</td>\n",
              "      <td>1</td>\n",
              "    </tr>\n",
              "    <tr>\n",
              "      <th>493</th>\n",
              "      <td>finish</td>\n",
              "      <td>1</td>\n",
              "    </tr>\n",
              "    <tr>\n",
              "      <th>494</th>\n",
              "      <td>thise</td>\n",
              "      <td>1</td>\n",
              "    </tr>\n",
              "    <tr>\n",
              "      <th>495</th>\n",
              "      <td>future</td>\n",
              "      <td>1</td>\n",
              "    </tr>\n",
              "  </tbody>\n",
              "</table>\n",
              "<p>496 rows × 2 columns</p>\n",
              "</div>"
            ],
            "text/plain": [
              "         Word  Frequency\n",
              "0    product   395      \n",
              "1    quality   348      \n",
              "2    size      150      \n",
              "3    colour    108      \n",
              "4    material  101      \n",
              "..        ...  ...      \n",
              "491  function  1        \n",
              "492  diz       1        \n",
              "493  finish    1        \n",
              "494  thise     1        \n",
              "495  future    1        \n",
              "\n",
              "[496 rows x 2 columns]"
            ]
          },
          "metadata": {
            "tags": []
          },
          "execution_count": 47
        }
      ]
    },
    {
      "cell_type": "code",
      "metadata": {
        "id": "Kwr-c6c2-Id2"
      },
      "source": [
        "top1000_words.to_csv('Frequent.csv')"
      ],
      "execution_count": null,
      "outputs": []
    },
    {
      "cell_type": "markdown",
      "metadata": {
        "id": "6YnOnbLlk5IG"
      },
      "source": [
        "# Plotting frequent words"
      ]
    },
    {
      "cell_type": "code",
      "metadata": {
        "colab": {
          "base_uri": "https://localhost:8080/",
          "height": 606
        },
        "id": "lLUnTETYTu4o",
        "outputId": "aa83641d-c0de-4ffb-aa36-acdcba96ea8a"
      },
      "source": [
        "plt.figure(figsize=(10,10))\n",
        "sns.set_style(\"whitegrid\")\n",
        "ax = sns.barplot(x=\"Frequency\",y=\"Word\", data=top100_words.head(10))"
      ],
      "execution_count": null,
      "outputs": [
        {
          "output_type": "display_data",
          "data": {
            "image/png": "[encoded data removed]",
            "text/plain": [
              "<Figure size 720x720 with 1 Axes>"
            ]
          },
          "metadata": {
            "tags": [],
            "needs_background": "light"
          }
        }
      ]
    },
    {
      "cell_type": "code",
      "metadata": {
        "id": "hoqSOU-yTyuP"
      },
      "source": [
        "def wc(data,bgcolor,title):\n",
        "    plt.figure(figsize = (80,80))\n",
        "    wc = WordCloud(background_color = bgcolor, max_words = 100,  max_font_size = 50)\n",
        "    wc.generate(' '.join(data))\n",
        "    plt.imshow(wc)\n",
        "    plt.axis('off')"
      ],
      "execution_count": null,
      "outputs": []
    },
    {
      "cell_type": "code",
      "metadata": {
        "colab": {
          "base_uri": "https://localhost:8080/",
          "height": 641
        },
        "id": "GNAE8tCjT1tw",
        "outputId": "7a8c46bb-1e7c-4047-cd4b-3d3fccadda24"
      },
      "source": [
        "wc(lemmatized_output,'black','Common Words' )"
      ],
      "execution_count": null,
      "outputs": [
        {
          "output_type": "display_data",
          "data": {
            "image/png": "[encoded data removed]",
            "text/plain": [
              "<Figure size 5760x5760 with 1 Axes>"
            ]
          },
          "metadata": {
            "tags": []
          }
        }
      ]
    },
    {
      "cell_type": "code",
      "metadata": {
        "id": "M2AU4yUzUTEJ"
      },
      "source": [
        "sent_analyser = SentimentIntensityAnalyzer()\n",
        "def sentiment(text):\n",
        "    return (sent_analyser.polarity_scores(text)[\"compound\"])"
      ],
      "execution_count": null,
      "outputs": []
    },
    {
      "cell_type": "markdown",
      "metadata": {
        "id": "ZGkkwQVfk-Zt"
      },
      "source": [
        "# printing sentiment polarity scores"
      ]
    },
    {
      "cell_type": "code",
      "metadata": {
        "id": "LPAoqPZhUVbQ"
      },
      "source": [
        "data[\"Polarity\"] = data[\"review\"].apply(sentiment)"
      ],
      "execution_count": null,
      "outputs": []
    },
    {
      "cell_type": "code",
      "metadata": {
        "colab": {
          "base_uri": "https://localhost:8080/",
          "height": 419
        },
        "id": "ZLQJAroJUaMi",
        "outputId": "772184c0-ce9c-4a33-db62-27b61f53a0c9"
      },
      "source": [
        "data"
      ],
      "execution_count": null,
      "outputs": [
        {
          "output_type": "execute_result",
          "data": {
            "text/html": [
              "<div>\n",
              "<style scoped>\n",
              "    .dataframe tbody tr th:only-of-type {\n",
              "        vertical-align: middle;\n",
              "    }\n",
              "\n",
              "    .dataframe tbody tr th {\n",
              "        vertical-align: top;\n",
              "    }\n",
              "\n",
              "    .dataframe thead th {\n",
              "        text-align: right;\n",
              "    }\n",
              "</style>\n",
              "<table border=\"1\" class=\"dataframe\">\n",
              "  <thead>\n",
              "    <tr style=\"text-align: right;\">\n",
              "      <th></th>\n",
              "      <th>Unnamed: 0</th>\n",
              "      <th>review</th>\n",
              "      <th>Polarity</th>\n",
              "    </tr>\n",
              "  </thead>\n",
              "  <tbody>\n",
              "    <tr>\n",
              "      <th>0</th>\n",
              "      <td>0</td>\n",
              "      <td>excellent look</td>\n",
              "      <td>0.5719</td>\n",
              "    </tr>\n",
              "    <tr>\n",
              "      <th>1</th>\n",
              "      <td>1</td>\n",
              "      <td>good product</td>\n",
              "      <td>0.4404</td>\n",
              "    </tr>\n",
              "    <tr>\n",
              "      <th>2</th>\n",
              "      <td>2</td>\n",
              "      <td>nice dress</td>\n",
              "      <td>0.4215</td>\n",
              "    </tr>\n",
              "    <tr>\n",
              "      <th>3</th>\n",
              "      <td>3</td>\n",
              "      <td>loved clothes</td>\n",
              "      <td>0.5994</td>\n",
              "    </tr>\n",
              "    <tr>\n",
              "      <th>4</th>\n",
              "      <td>4</td>\n",
              "      <td>really product photo satisfied trust maintained</td>\n",
              "      <td>0.7479</td>\n",
              "    </tr>\n",
              "    <tr>\n",
              "      <th>...</th>\n",
              "      <td>...</td>\n",
              "      <td>...</td>\n",
              "      <td>...</td>\n",
              "    </tr>\n",
              "    <tr>\n",
              "      <th>2547</th>\n",
              "      <td>2547</td>\n",
              "      <td>cheapcheap</td>\n",
              "      <td>0.0000</td>\n",
              "    </tr>\n",
              "    <tr>\n",
              "      <th>2548</th>\n",
              "      <td>2548</td>\n",
              "      <td>colour faded pic the colour faded</td>\n",
              "      <td>0.0000</td>\n",
              "    </tr>\n",
              "    <tr>\n",
              "      <th>2549</th>\n",
              "      <td>2549</td>\n",
              "      <td>very bandit tear knee side</td>\n",
              "      <td>0.0000</td>\n",
              "    </tr>\n",
              "    <tr>\n",
              "      <th>2550</th>\n",
              "      <td>2550</td>\n",
              "      <td>size small size small</td>\n",
              "      <td>0.0000</td>\n",
              "    </tr>\n",
              "    <tr>\n",
              "      <th>2551</th>\n",
              "      <td>2551</td>\n",
              "      <td>good product good fit good product good fit</td>\n",
              "      <td>0.9393</td>\n",
              "    </tr>\n",
              "  </tbody>\n",
              "</table>\n",
              "<p>2552 rows × 3 columns</p>\n",
              "</div>"
            ],
            "text/plain": [
              "      Unnamed: 0                                           review  Polarity\n",
              "0     0           excellent look                                   0.5719  \n",
              "1     1           good product                                     0.4404  \n",
              "2     2           nice dress                                       0.4215  \n",
              "3     3           loved clothes                                    0.5994  \n",
              "4     4           really product photo satisfied trust maintained  0.7479  \n",
              "...  ..                                                       ...     ...  \n",
              "2547  2547        cheapcheap                                       0.0000  \n",
              "2548  2548        colour faded pic the colour faded                0.0000  \n",
              "2549  2549        very bandit tear knee side                       0.0000  \n",
              "2550  2550        size small size small                            0.0000  \n",
              "2551  2551        good product good fit good product good fit      0.9393  \n",
              "\n",
              "[2552 rows x 3 columns]"
            ]
          },
          "metadata": {
            "tags": []
          },
          "execution_count": 42
        }
      ]
    },
    {
      "cell_type": "code",
      "metadata": {
        "id": "Zt6nIe8pUk7C"
      },
      "source": [
        "def senti(data):\n",
        "    if data['Polarity'] >= 0.05:\n",
        "        val = \"Positive\"\n",
        "    elif data['Polarity'] <= -0.05:\n",
        "        val = \"Negative\"\n",
        "    else:\n",
        "        val = \"Neutral\"\n",
        "    return val"
      ],
      "execution_count": null,
      "outputs": []
    },
    {
      "cell_type": "code",
      "metadata": {
        "id": "vgDRuQ01UmFW"
      },
      "source": [
        "data['Sentiment'] = data.apply(senti, axis=1)"
      ],
      "execution_count": null,
      "outputs": []
    },
    {
      "cell_type": "code",
      "metadata": {
        "colab": {
          "base_uri": "https://localhost:8080/",
          "height": 606
        },
        "id": "109t4dQtUorI",
        "outputId": "2c7e8a65-eccb-4b0f-ab56-f3c43b26d3b6"
      },
      "source": [
        "plt.figure(figsize=(10,10))\n",
        "sns.set_style(\"whitegrid\")\n",
        "ax = sns.countplot(x=\"Sentiment\", data=data, \n",
        "                  palette=dict(Neutral=\"blue\", Positive=\"Green\", Negative=\"Red\"))"
      ],
      "execution_count": null,
      "outputs": [
        {
          "output_type": "display_data",
          "data": {
            "image/png": "[encoded data removed]",
            "text/plain": [
              "<Figure size 720x720 with 1 Axes>"
            ]
          },
          "metadata": {
            "tags": []
          }
        }
      ]
    },
    {
      "cell_type": "code",
      "metadata": {
        "id": "uFDyr-4OUz89"
      },
      "source": [
        "#import spacy\n",
        "nlp = spacy.load(\"en_core_web_sm\")"
      ],
      "execution_count": null,
      "outputs": []
    },
    {
      "cell_type": "code",
      "metadata": {
        "id": "mPnWy4UIU2xz"
      },
      "source": [
        "def pos(text):\n",
        "    doc = nlp(text)\n",
        "    # You want list of Verb tokens \n",
        "    aspects = [token.text for token in doc if token.pos_ == \"NOUN\"]\n",
        "    return aspects"
      ],
      "execution_count": null,
      "outputs": []
    },
    {
      "cell_type": "code",
      "metadata": {
        "id": "rJ_PJOC5VbQE"
      },
      "source": [
        "data[\"Aspects\"] = data[\"review\"].apply(pos)"
      ],
      "execution_count": null,
      "outputs": []
    },
    {
      "cell_type": "code",
      "metadata": {
        "colab": {
          "base_uri": "https://localhost:8080/",
          "height": 470
        },
        "id": "X-Ud4pc2V-Fn",
        "outputId": "4855eed4-2760-4e49-a862-6d3f094fe262"
      },
      "source": [
        "data"
      ],
      "execution_count": null,
      "outputs": [
        {
          "output_type": "execute_result",
          "data": {
            "text/html": [
              "<div>\n",
              "<style scoped>\n",
              "    .dataframe tbody tr th:only-of-type {\n",
              "        vertical-align: middle;\n",
              "    }\n",
              "\n",
              "    .dataframe tbody tr th {\n",
              "        vertical-align: top;\n",
              "    }\n",
              "\n",
              "    .dataframe thead th {\n",
              "        text-align: right;\n",
              "    }\n",
              "</style>\n",
              "<table border=\"1\" class=\"dataframe\">\n",
              "  <thead>\n",
              "    <tr style=\"text-align: right;\">\n",
              "      <th></th>\n",
              "      <th>Unnamed: 0</th>\n",
              "      <th>review</th>\n",
              "      <th>Polarity</th>\n",
              "      <th>Sentiment</th>\n",
              "      <th>Aspects</th>\n",
              "    </tr>\n",
              "  </thead>\n",
              "  <tbody>\n",
              "    <tr>\n",
              "      <th>0</th>\n",
              "      <td>0</td>\n",
              "      <td>excellent look</td>\n",
              "      <td>0.5719</td>\n",
              "      <td>Positive</td>\n",
              "      <td>[]</td>\n",
              "    </tr>\n",
              "    <tr>\n",
              "      <th>1</th>\n",
              "      <td>1</td>\n",
              "      <td>good product</td>\n",
              "      <td>0.4404</td>\n",
              "      <td>Positive</td>\n",
              "      <td>[product]</td>\n",
              "    </tr>\n",
              "    <tr>\n",
              "      <th>2</th>\n",
              "      <td>2</td>\n",
              "      <td>nice dress</td>\n",
              "      <td>0.4215</td>\n",
              "      <td>Positive</td>\n",
              "      <td>[]</td>\n",
              "    </tr>\n",
              "    <tr>\n",
              "      <th>3</th>\n",
              "      <td>3</td>\n",
              "      <td>loved clothes</td>\n",
              "      <td>0.5994</td>\n",
              "      <td>Positive</td>\n",
              "      <td>[clothes]</td>\n",
              "    </tr>\n",
              "    <tr>\n",
              "      <th>4</th>\n",
              "      <td>4</td>\n",
              "      <td>really product photo satisfied trust maintained</td>\n",
              "      <td>0.7479</td>\n",
              "      <td>Positive</td>\n",
              "      <td>[product, photo, trust]</td>\n",
              "    </tr>\n",
              "    <tr>\n",
              "      <th>...</th>\n",
              "      <td>...</td>\n",
              "      <td>...</td>\n",
              "      <td>...</td>\n",
              "      <td>...</td>\n",
              "      <td>...</td>\n",
              "    </tr>\n",
              "    <tr>\n",
              "      <th>2547</th>\n",
              "      <td>2547</td>\n",
              "      <td>cheapcheap</td>\n",
              "      <td>0.0000</td>\n",
              "      <td>Neutral</td>\n",
              "      <td>[]</td>\n",
              "    </tr>\n",
              "    <tr>\n",
              "      <th>2548</th>\n",
              "      <td>2548</td>\n",
              "      <td>colour faded pic the colour faded</td>\n",
              "      <td>0.0000</td>\n",
              "      <td>Neutral</td>\n",
              "      <td>[colour]</td>\n",
              "    </tr>\n",
              "    <tr>\n",
              "      <th>2549</th>\n",
              "      <td>2549</td>\n",
              "      <td>very bandit tear knee side</td>\n",
              "      <td>0.0000</td>\n",
              "      <td>Neutral</td>\n",
              "      <td>[knee, side]</td>\n",
              "    </tr>\n",
              "    <tr>\n",
              "      <th>2550</th>\n",
              "      <td>2550</td>\n",
              "      <td>size small size small</td>\n",
              "      <td>0.0000</td>\n",
              "      <td>Neutral</td>\n",
              "      <td>[size, size]</td>\n",
              "    </tr>\n",
              "    <tr>\n",
              "      <th>2551</th>\n",
              "      <td>2551</td>\n",
              "      <td>good product good fit good product good fit</td>\n",
              "      <td>0.9393</td>\n",
              "      <td>Positive</td>\n",
              "      <td>[product, product, fit]</td>\n",
              "    </tr>\n",
              "  </tbody>\n",
              "</table>\n",
              "<p>2552 rows × 5 columns</p>\n",
              "</div>"
            ],
            "text/plain": [
              "      Unnamed: 0  ...                  Aspects\n",
              "0     0           ...  []                     \n",
              "1     1           ...  [product]              \n",
              "2     2           ...  []                     \n",
              "3     3           ...  [clothes]              \n",
              "4     4           ...  [product, photo, trust]\n",
              "...  ..           ...                      ...\n",
              "2547  2547        ...  []                     \n",
              "2548  2548        ...  [colour]               \n",
              "2549  2549        ...  [knee, side]           \n",
              "2550  2550        ...  [size, size]           \n",
              "2551  2551        ...  [product, product, fit]\n",
              "\n",
              "[2552 rows x 5 columns]"
            ]
          },
          "metadata": {
            "tags": []
          },
          "execution_count": 50
        }
      ]
    },
    {
      "cell_type": "code",
      "metadata": {
        "id": "vzqwOPoDWlJQ"
      },
      "source": [
        "data.to_csv('Frequent,sentiment and aspects.csv')"
      ],
      "execution_count": null,
      "outputs": []
    },
    {
      "cell_type": "code",
      "metadata": {
        "colab": {
          "base_uri": "https://localhost:8080/",
          "height": 419
        },
        "id": "aOTMzBzB4nyf",
        "outputId": "46ba2609-e690-41c0-8a3f-78a20a86aed5"
      },
      "source": [
        "\n",
        "data1 = pd.read_csv(\"ReviewAspect.csv\")\n",
        "data1"
      ],
      "execution_count": null,
      "outputs": [
        {
          "output_type": "execute_result",
          "data": {
            "text/html": [
              "<div>\n",
              "<style scoped>\n",
              "    .dataframe tbody tr th:only-of-type {\n",
              "        vertical-align: middle;\n",
              "    }\n",
              "\n",
              "    .dataframe tbody tr th {\n",
              "        vertical-align: top;\n",
              "    }\n",
              "\n",
              "    .dataframe thead th {\n",
              "        text-align: right;\n",
              "    }\n",
              "</style>\n",
              "<table border=\"1\" class=\"dataframe\">\n",
              "  <thead>\n",
              "    <tr style=\"text-align: right;\">\n",
              "      <th></th>\n",
              "      <th>Sentiment</th>\n",
              "      <th>Aspects</th>\n",
              "    </tr>\n",
              "  </thead>\n",
              "  <tbody>\n",
              "    <tr>\n",
              "      <th>0</th>\n",
              "      <td>Positive</td>\n",
              "      <td>[]</td>\n",
              "    </tr>\n",
              "    <tr>\n",
              "      <th>1</th>\n",
              "      <td>Positive</td>\n",
              "      <td>['product']</td>\n",
              "    </tr>\n",
              "    <tr>\n",
              "      <th>2</th>\n",
              "      <td>Positive</td>\n",
              "      <td>[]</td>\n",
              "    </tr>\n",
              "    <tr>\n",
              "      <th>3</th>\n",
              "      <td>Positive</td>\n",
              "      <td>['clothes']</td>\n",
              "    </tr>\n",
              "    <tr>\n",
              "      <th>4</th>\n",
              "      <td>Positive</td>\n",
              "      <td>['product', 'photo', 'trust']</td>\n",
              "    </tr>\n",
              "    <tr>\n",
              "      <th>...</th>\n",
              "      <td>...</td>\n",
              "      <td>...</td>\n",
              "    </tr>\n",
              "    <tr>\n",
              "      <th>2547</th>\n",
              "      <td>Neutral</td>\n",
              "      <td>[]</td>\n",
              "    </tr>\n",
              "    <tr>\n",
              "      <th>2548</th>\n",
              "      <td>Neutral</td>\n",
              "      <td>['colour']</td>\n",
              "    </tr>\n",
              "    <tr>\n",
              "      <th>2549</th>\n",
              "      <td>Neutral</td>\n",
              "      <td>['knee', 'side']</td>\n",
              "    </tr>\n",
              "    <tr>\n",
              "      <th>2550</th>\n",
              "      <td>Neutral</td>\n",
              "      <td>['size', 'size']</td>\n",
              "    </tr>\n",
              "    <tr>\n",
              "      <th>2551</th>\n",
              "      <td>Positive</td>\n",
              "      <td>['product', 'product', 'fit']</td>\n",
              "    </tr>\n",
              "  </tbody>\n",
              "</table>\n",
              "<p>2552 rows × 2 columns</p>\n",
              "</div>"
            ],
            "text/plain": [
              "     Sentiment                        Aspects\n",
              "0     Positive  []                           \n",
              "1     Positive  ['product']                  \n",
              "2     Positive  []                           \n",
              "3     Positive  ['clothes']                  \n",
              "4     Positive  ['product', 'photo', 'trust']\n",
              "...        ...                            ...\n",
              "2547  Neutral   []                           \n",
              "2548  Neutral   ['colour']                   \n",
              "2549  Neutral   ['knee', 'side']             \n",
              "2550  Neutral   ['size', 'size']             \n",
              "2551  Positive  ['product', 'product', 'fit']\n",
              "\n",
              "[2552 rows x 2 columns]"
            ]
          },
          "metadata": {
            "tags": []
          },
          "execution_count": 77
        }
      ]
    },
    {
      "cell_type": "code",
      "metadata": {
        "colab": {
          "base_uri": "https://localhost:8080/",
          "height": 450
        },
        "id": "6MWUqFDV4u7C",
        "outputId": "003296f0-4dd3-4571-df3f-678e75b6a859"
      },
      "source": [
        "rows = data1.loc[[\"Negative\"]]\n",
        "rows"
      ],
      "execution_count": null,
      "outputs": [
        {
          "output_type": "execute_result",
          "data": {
            "text/html": [
              "<div>\n",
              "<style scoped>\n",
              "    .dataframe tbody tr th:only-of-type {\n",
              "        vertical-align: middle;\n",
              "    }\n",
              "\n",
              "    .dataframe tbody tr th {\n",
              "        vertical-align: top;\n",
              "    }\n",
              "\n",
              "    .dataframe thead th {\n",
              "        text-align: right;\n",
              "    }\n",
              "</style>\n",
              "<table border=\"1\" class=\"dataframe\">\n",
              "  <thead>\n",
              "    <tr style=\"text-align: right;\">\n",
              "      <th></th>\n",
              "      <th>Aspects</th>\n",
              "    </tr>\n",
              "    <tr>\n",
              "      <th>Sentiment</th>\n",
              "      <th></th>\n",
              "    </tr>\n",
              "  </thead>\n",
              "  <tbody>\n",
              "    <tr>\n",
              "      <th>Negative</th>\n",
              "      <td>['quality', 'fabric']</td>\n",
              "    </tr>\n",
              "    <tr>\n",
              "      <th>Negative</th>\n",
              "      <td>['quality', 'cloth']</td>\n",
              "    </tr>\n",
              "    <tr>\n",
              "      <th>Negative</th>\n",
              "      <td>['packing']</td>\n",
              "    </tr>\n",
              "    <tr>\n",
              "      <th>Negative</th>\n",
              "      <td>['color']</td>\n",
              "    </tr>\n",
              "    <tr>\n",
              "      <th>Negative</th>\n",
              "      <td>['quality']</td>\n",
              "    </tr>\n",
              "    <tr>\n",
              "      <th>...</th>\n",
              "      <td>...</td>\n",
              "    </tr>\n",
              "    <tr>\n",
              "      <th>Negative</th>\n",
              "      <td>['difference', 'image', 'reality']</td>\n",
              "    </tr>\n",
              "    <tr>\n",
              "      <th>Negative</th>\n",
              "      <td>['quality', 'dislike']</td>\n",
              "    </tr>\n",
              "    <tr>\n",
              "      <th>Negative</th>\n",
              "      <td>['shirts', 'pants', 'quality', 'quality', 'shirts', 'pants']</td>\n",
              "    </tr>\n",
              "    <tr>\n",
              "      <th>Negative</th>\n",
              "      <td>['purchase', 'product', 'product', 'quality', 'material', 'price', 'thise', 'product', 'purchase', 'future']</td>\n",
              "    </tr>\n",
              "    <tr>\n",
              "      <th>Negative</th>\n",
              "      <td>['order', 'order']</td>\n",
              "    </tr>\n",
              "  </tbody>\n",
              "</table>\n",
              "<p>220 rows × 1 columns</p>\n",
              "</div>"
            ],
            "text/plain": [
              "                                                                                                                Aspects\n",
              "Sentiment                                                                                                              \n",
              "Negative   ['quality', 'fabric']                                                                                       \n",
              "Negative   ['quality', 'cloth']                                                                                        \n",
              "Negative   ['packing']                                                                                                 \n",
              "Negative   ['color']                                                                                                   \n",
              "Negative   ['quality']                                                                                                 \n",
              "...              ...                                                                                                   \n",
              "Negative   ['difference', 'image', 'reality']                                                                          \n",
              "Negative   ['quality', 'dislike']                                                                                      \n",
              "Negative   ['shirts', 'pants', 'quality', 'quality', 'shirts', 'pants']                                                \n",
              "Negative   ['purchase', 'product', 'product', 'quality', 'material', 'price', 'thise', 'product', 'purchase', 'future']\n",
              "Negative   ['order', 'order']                                                                                          \n",
              "\n",
              "[220 rows x 1 columns]"
            ]
          },
          "metadata": {
            "tags": []
          },
          "execution_count": 76
        }
      ]
    },
    {
      "cell_type": "code",
      "metadata": {
        "id": "c3MxFzWGMycj"
      },
      "source": [
        "rows.to_csv('aspects_in_neg.csv')"
      ],
      "execution_count": null,
      "outputs": []
    },
    {
      "cell_type": "code",
      "metadata": {
        "id": "_69bwlKuOHWh"
      },
      "source": [
        "import matplotlib\n",
        "import matplotlib.pyplot as plt\n",
        "import pandas as pd\n",
        "import nltk"
      ],
      "execution_count": null,
      "outputs": []
    },
    {
      "cell_type": "code",
      "metadata": {
        "colab": {
          "base_uri": "https://localhost:8080/",
          "height": 419
        },
        "id": "9iFI8FeGOIWr",
        "outputId": "5e25b48d-e920-4351-88b9-bc624d6aa955"
      },
      "source": [
        "top_N = 10\n",
        "\n",
        "df = pd.read_csv(\"aspects_in_neg.csv\")\n",
        "df"
      ],
      "execution_count": null,
      "outputs": [
        {
          "output_type": "execute_result",
          "data": {
            "text/html": [
              "<div>\n",
              "<style scoped>\n",
              "    .dataframe tbody tr th:only-of-type {\n",
              "        vertical-align: middle;\n",
              "    }\n",
              "\n",
              "    .dataframe tbody tr th {\n",
              "        vertical-align: top;\n",
              "    }\n",
              "\n",
              "    .dataframe thead th {\n",
              "        text-align: right;\n",
              "    }\n",
              "</style>\n",
              "<table border=\"1\" class=\"dataframe\">\n",
              "  <thead>\n",
              "    <tr style=\"text-align: right;\">\n",
              "      <th></th>\n",
              "      <th>Sentiment</th>\n",
              "      <th>Aspects</th>\n",
              "    </tr>\n",
              "  </thead>\n",
              "  <tbody>\n",
              "    <tr>\n",
              "      <th>0</th>\n",
              "      <td>Negative</td>\n",
              "      <td>['quality', 'fabric']</td>\n",
              "    </tr>\n",
              "    <tr>\n",
              "      <th>1</th>\n",
              "      <td>Negative</td>\n",
              "      <td>['quality', 'cloth']</td>\n",
              "    </tr>\n",
              "    <tr>\n",
              "      <th>2</th>\n",
              "      <td>Negative</td>\n",
              "      <td>['packing']</td>\n",
              "    </tr>\n",
              "    <tr>\n",
              "      <th>3</th>\n",
              "      <td>Negative</td>\n",
              "      <td>['color']</td>\n",
              "    </tr>\n",
              "    <tr>\n",
              "      <th>4</th>\n",
              "      <td>Negative</td>\n",
              "      <td>['quality']</td>\n",
              "    </tr>\n",
              "    <tr>\n",
              "      <th>...</th>\n",
              "      <td>...</td>\n",
              "      <td>...</td>\n",
              "    </tr>\n",
              "    <tr>\n",
              "      <th>215</th>\n",
              "      <td>Negative</td>\n",
              "      <td>['difference', 'image', 'reality']</td>\n",
              "    </tr>\n",
              "    <tr>\n",
              "      <th>216</th>\n",
              "      <td>Negative</td>\n",
              "      <td>['quality', 'dislike']</td>\n",
              "    </tr>\n",
              "    <tr>\n",
              "      <th>217</th>\n",
              "      <td>Negative</td>\n",
              "      <td>['shirts', 'pants', 'quality', 'quality', 'shirts', 'pants']</td>\n",
              "    </tr>\n",
              "    <tr>\n",
              "      <th>218</th>\n",
              "      <td>Negative</td>\n",
              "      <td>['purchase', 'product', 'product', 'quality', 'material', 'price', 'thise', 'product', 'purchase', 'future']</td>\n",
              "    </tr>\n",
              "    <tr>\n",
              "      <th>219</th>\n",
              "      <td>Negative</td>\n",
              "      <td>['order', 'order']</td>\n",
              "    </tr>\n",
              "  </tbody>\n",
              "</table>\n",
              "<p>220 rows × 2 columns</p>\n",
              "</div>"
            ],
            "text/plain": [
              "    Sentiment                                                                                                       Aspects\n",
              "0    Negative  ['quality', 'fabric']                                                                                       \n",
              "1    Negative  ['quality', 'cloth']                                                                                        \n",
              "2    Negative  ['packing']                                                                                                 \n",
              "3    Negative  ['color']                                                                                                   \n",
              "4    Negative  ['quality']                                                                                                 \n",
              "..        ...          ...                                                                                                 \n",
              "215  Negative  ['difference', 'image', 'reality']                                                                          \n",
              "216  Negative  ['quality', 'dislike']                                                                                      \n",
              "217  Negative  ['shirts', 'pants', 'quality', 'quality', 'shirts', 'pants']                                                \n",
              "218  Negative  ['purchase', 'product', 'product', 'quality', 'material', 'price', 'thise', 'product', 'purchase', 'future']\n",
              "219  Negative  ['order', 'order']                                                                                          \n",
              "\n",
              "[220 rows x 2 columns]"
            ]
          },
          "metadata": {
            "tags": []
          },
          "execution_count": 92
        }
      ]
    }
  ]
}